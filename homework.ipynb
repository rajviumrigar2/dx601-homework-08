{
 "cells": [
  {
   "cell_type": "markdown",
   "metadata": {},
   "source": [
    "# DX 601 Week 8 Homework"
   ]
  },
  {
   "cell_type": "markdown",
   "metadata": {},
   "source": [
    "## Introduction\n",
    "\n",
    "In this homework, you will start practicing a variety of concepts from linear algebra.\n",
    "We will dig in more deeply on all these concepts over the coming weeks.\n"
   ]
  },
  {
   "cell_type": "markdown",
   "metadata": {},
   "source": [
    "## Example Code\n",
    "\n",
    "You may find it helpful to refer to these GitHub repositories of Jupyter notebooks for example code.\n",
    "\n",
    "* https://github.com/bu-cds-omds/dx500-examples\n",
    "* https://github.com/bu-cds-omds/dx601-examples\n",
    "* https://github.com/bu-cds-omds/dx602-examples\n",
    "\n",
    "Any calculations demonstrated in code examples or videos may be found in these notebooks, and you are allowed to copy this example code in your homework answers."
   ]
  },
  {
   "cell_type": "markdown",
   "metadata": {},
   "source": [
    "## Problems"
   ]
  },
  {
   "cell_type": "markdown",
   "metadata": {},
   "source": [
    "### Shared Imports\n",
    "\n",
    "Do not install or use any additional modules.\n",
    "Installing additional modules may result in an autograder failure resulting in zero points for some or all problems."
   ]
  },
  {
   "cell_type": "code",
   "execution_count": 2,
   "metadata": {},
   "outputs": [],
   "source": [
    "import math\n",
    "import random"
   ]
  },
  {
   "cell_type": "code",
   "execution_count": 3,
   "metadata": {},
   "outputs": [],
   "source": [
    "import matplotlib.pyplot as plt\n",
    "import numpy as np\n",
    "import pandas as pd\n",
    "import scipy.stats\n",
    "import sklearn.linear_model"
   ]
  },
  {
   "cell_type": "markdown",
   "metadata": {},
   "source": [
    "## Shared Data"
   ]
  },
  {
   "cell_type": "markdown",
   "metadata": {},
   "source": [
    "### Abalone Data\n"
   ]
  },
  {
   "cell_type": "code",
   "execution_count": 4,
   "metadata": {},
   "outputs": [],
   "source": [
    "abalone = pd.read_csv(\"abalone.tsv\", sep=\"\\t\")"
   ]
  },
  {
   "cell_type": "code",
   "execution_count": 5,
   "metadata": {},
   "outputs": [
    {
     "data": {
      "text/html": [
       "<div>\n",
       "<style scoped>\n",
       "    .dataframe tbody tr th:only-of-type {\n",
       "        vertical-align: middle;\n",
       "    }\n",
       "\n",
       "    .dataframe tbody tr th {\n",
       "        vertical-align: top;\n",
       "    }\n",
       "\n",
       "    .dataframe thead th {\n",
       "        text-align: right;\n",
       "    }\n",
       "</style>\n",
       "<table border=\"1\" class=\"dataframe\">\n",
       "  <thead>\n",
       "    <tr style=\"text-align: right;\">\n",
       "      <th></th>\n",
       "      <th>Sex</th>\n",
       "      <th>Length</th>\n",
       "      <th>Diameter</th>\n",
       "      <th>Height</th>\n",
       "      <th>Whole_weight</th>\n",
       "      <th>Shucked_weight</th>\n",
       "      <th>Viscera_weight</th>\n",
       "      <th>Shell_weight</th>\n",
       "      <th>Rings</th>\n",
       "    </tr>\n",
       "  </thead>\n",
       "  <tbody>\n",
       "    <tr>\n",
       "      <th>0</th>\n",
       "      <td>M</td>\n",
       "      <td>0.455</td>\n",
       "      <td>0.365</td>\n",
       "      <td>0.095</td>\n",
       "      <td>0.5140</td>\n",
       "      <td>0.2245</td>\n",
       "      <td>0.1010</td>\n",
       "      <td>0.1500</td>\n",
       "      <td>15</td>\n",
       "    </tr>\n",
       "    <tr>\n",
       "      <th>1</th>\n",
       "      <td>M</td>\n",
       "      <td>0.350</td>\n",
       "      <td>0.265</td>\n",
       "      <td>0.090</td>\n",
       "      <td>0.2255</td>\n",
       "      <td>0.0995</td>\n",
       "      <td>0.0485</td>\n",
       "      <td>0.0700</td>\n",
       "      <td>7</td>\n",
       "    </tr>\n",
       "    <tr>\n",
       "      <th>2</th>\n",
       "      <td>F</td>\n",
       "      <td>0.530</td>\n",
       "      <td>0.420</td>\n",
       "      <td>0.135</td>\n",
       "      <td>0.6770</td>\n",
       "      <td>0.2565</td>\n",
       "      <td>0.1415</td>\n",
       "      <td>0.2100</td>\n",
       "      <td>9</td>\n",
       "    </tr>\n",
       "    <tr>\n",
       "      <th>3</th>\n",
       "      <td>M</td>\n",
       "      <td>0.440</td>\n",
       "      <td>0.365</td>\n",
       "      <td>0.125</td>\n",
       "      <td>0.5160</td>\n",
       "      <td>0.2155</td>\n",
       "      <td>0.1140</td>\n",
       "      <td>0.1550</td>\n",
       "      <td>10</td>\n",
       "    </tr>\n",
       "    <tr>\n",
       "      <th>4</th>\n",
       "      <td>I</td>\n",
       "      <td>0.330</td>\n",
       "      <td>0.255</td>\n",
       "      <td>0.080</td>\n",
       "      <td>0.2050</td>\n",
       "      <td>0.0895</td>\n",
       "      <td>0.0395</td>\n",
       "      <td>0.0550</td>\n",
       "      <td>7</td>\n",
       "    </tr>\n",
       "    <tr>\n",
       "      <th>...</th>\n",
       "      <td>...</td>\n",
       "      <td>...</td>\n",
       "      <td>...</td>\n",
       "      <td>...</td>\n",
       "      <td>...</td>\n",
       "      <td>...</td>\n",
       "      <td>...</td>\n",
       "      <td>...</td>\n",
       "      <td>...</td>\n",
       "    </tr>\n",
       "    <tr>\n",
       "      <th>4172</th>\n",
       "      <td>F</td>\n",
       "      <td>0.565</td>\n",
       "      <td>0.450</td>\n",
       "      <td>0.165</td>\n",
       "      <td>0.8870</td>\n",
       "      <td>0.3700</td>\n",
       "      <td>0.2390</td>\n",
       "      <td>0.2490</td>\n",
       "      <td>11</td>\n",
       "    </tr>\n",
       "    <tr>\n",
       "      <th>4173</th>\n",
       "      <td>M</td>\n",
       "      <td>0.590</td>\n",
       "      <td>0.440</td>\n",
       "      <td>0.135</td>\n",
       "      <td>0.9660</td>\n",
       "      <td>0.4390</td>\n",
       "      <td>0.2145</td>\n",
       "      <td>0.2605</td>\n",
       "      <td>10</td>\n",
       "    </tr>\n",
       "    <tr>\n",
       "      <th>4174</th>\n",
       "      <td>M</td>\n",
       "      <td>0.600</td>\n",
       "      <td>0.475</td>\n",
       "      <td>0.205</td>\n",
       "      <td>1.1760</td>\n",
       "      <td>0.5255</td>\n",
       "      <td>0.2875</td>\n",
       "      <td>0.3080</td>\n",
       "      <td>9</td>\n",
       "    </tr>\n",
       "    <tr>\n",
       "      <th>4175</th>\n",
       "      <td>F</td>\n",
       "      <td>0.625</td>\n",
       "      <td>0.485</td>\n",
       "      <td>0.150</td>\n",
       "      <td>1.0945</td>\n",
       "      <td>0.5310</td>\n",
       "      <td>0.2610</td>\n",
       "      <td>0.2960</td>\n",
       "      <td>10</td>\n",
       "    </tr>\n",
       "    <tr>\n",
       "      <th>4176</th>\n",
       "      <td>M</td>\n",
       "      <td>0.710</td>\n",
       "      <td>0.555</td>\n",
       "      <td>0.195</td>\n",
       "      <td>1.9485</td>\n",
       "      <td>0.9455</td>\n",
       "      <td>0.3765</td>\n",
       "      <td>0.4950</td>\n",
       "      <td>12</td>\n",
       "    </tr>\n",
       "  </tbody>\n",
       "</table>\n",
       "<p>4177 rows × 9 columns</p>\n",
       "</div>"
      ],
      "text/plain": [
       "     Sex  Length  Diameter  Height  Whole_weight  Shucked_weight  \\\n",
       "0      M   0.455     0.365   0.095        0.5140          0.2245   \n",
       "1      M   0.350     0.265   0.090        0.2255          0.0995   \n",
       "2      F   0.530     0.420   0.135        0.6770          0.2565   \n",
       "3      M   0.440     0.365   0.125        0.5160          0.2155   \n",
       "4      I   0.330     0.255   0.080        0.2050          0.0895   \n",
       "...   ..     ...       ...     ...           ...             ...   \n",
       "4172   F   0.565     0.450   0.165        0.8870          0.3700   \n",
       "4173   M   0.590     0.440   0.135        0.9660          0.4390   \n",
       "4174   M   0.600     0.475   0.205        1.1760          0.5255   \n",
       "4175   F   0.625     0.485   0.150        1.0945          0.5310   \n",
       "4176   M   0.710     0.555   0.195        1.9485          0.9455   \n",
       "\n",
       "      Viscera_weight  Shell_weight  Rings  \n",
       "0             0.1010        0.1500     15  \n",
       "1             0.0485        0.0700      7  \n",
       "2             0.1415        0.2100      9  \n",
       "3             0.1140        0.1550     10  \n",
       "4             0.0395        0.0550      7  \n",
       "...              ...           ...    ...  \n",
       "4172          0.2390        0.2490     11  \n",
       "4173          0.2145        0.2605     10  \n",
       "4174          0.2875        0.3080      9  \n",
       "4175          0.2610        0.2960     10  \n",
       "4176          0.3765        0.4950     12  \n",
       "\n",
       "[4177 rows x 9 columns]"
      ]
     },
     "execution_count": 5,
     "metadata": {},
     "output_type": "execute_result"
    }
   ],
   "source": [
    "abalone"
   ]
  },
  {
   "cell_type": "markdown",
   "metadata": {},
   "source": [
    "### Problem 1\n",
    "\n",
    "Given vector $\\mathbf{v} = \\begin{bmatrix} 3.6 \\\\ 3.4 \\\\ 9.4 \\\\ 5.4 \\end{bmatrix}$, set `p1` to $v_2$."
   ]
  },
  {
   "cell_type": "markdown",
   "metadata": {},
   "source": [
    "Hint: don't forget that these indices start from zero."
   ]
  },
  {
   "cell_type": "code",
   "execution_count": 6,
   "metadata": {},
   "outputs": [],
   "source": [
    "# YOUR CHANGES HERE\n",
    "\n",
    "p1 = ..."
   ]
  },
  {
   "cell_type": "code",
   "execution_count": 7,
   "metadata": {},
   "outputs": [
    {
     "data": {
      "text/plain": [
       "Ellipsis"
      ]
     },
     "execution_count": 7,
     "metadata": {},
     "output_type": "execute_result"
    }
   ],
   "source": [
    "p1"
   ]
  },
  {
   "cell_type": "markdown",
   "metadata": {},
   "source": [
    "### Problem 2\n",
    "\n",
    "Given vector $\\mathbf{u}$ stored in `q2` below, set `p2` to $u_{3}$."
   ]
  },
  {
   "cell_type": "code",
   "execution_count": 8,
   "metadata": {},
   "outputs": [
    {
     "data": {
      "text/plain": [
       "array([1.6, 6.7, 1.9, 9.8, 9.3, 8.2, 7.4, 7. , 0.7, 5.4])"
      ]
     },
     "execution_count": 8,
     "metadata": {},
     "output_type": "execute_result"
    }
   ],
   "source": [
    "# DO NOT CHANGE\n",
    "\n",
    "q2 = np.array([1.6, 6.7, 1.9, 9.8, 9.3, 8.2, 7.4, 7. , 0.7, 5.4])\n",
    "q2"
   ]
  },
  {
   "cell_type": "code",
   "execution_count": 9,
   "metadata": {},
   "outputs": [],
   "source": [
    "# YOUR CHANGES HERE\n",
    "\n",
    "p2 = ..."
   ]
  },
  {
   "cell_type": "code",
   "execution_count": 10,
   "metadata": {},
   "outputs": [
    {
     "data": {
      "text/plain": [
       "Ellipsis"
      ]
     },
     "execution_count": 10,
     "metadata": {},
     "output_type": "execute_result"
    }
   ],
   "source": [
    "p2"
   ]
  },
  {
   "cell_type": "markdown",
   "metadata": {},
   "source": [
    "### Problem 3\n",
    "\n",
    "Given matrix $\\mathbf{A} = \\begin{bmatrix} 3 & 6.4 & 2.3 \\\\ 1.3 & 5.2 & 7.2 \\\\ \\end{bmatrix}$, set `p3` to $A_{1,1}$."
   ]
  },
  {
   "cell_type": "code",
   "execution_count": 11,
   "metadata": {},
   "outputs": [],
   "source": [
    "# YOUR CHANGES HERE\n",
    "\n",
    "A = np.array([[3, 6.4, 2.3],\n",
    "              [1.3, 5.2, 7.2]])\n",
    "p3 = A[0, 0]"
   ]
  },
  {
   "cell_type": "code",
   "execution_count": 12,
   "metadata": {},
   "outputs": [
    {
     "data": {
      "text/plain": [
       "np.float64(3.0)"
      ]
     },
     "execution_count": 12,
     "metadata": {},
     "output_type": "execute_result"
    }
   ],
   "source": [
    "p3"
   ]
  },
  {
   "cell_type": "markdown",
   "metadata": {},
   "source": [
    "### Problem 4\n",
    "\n",
    "Given the matrix $\\mathbf{B}$ stored in `q4` below, set `p4` to $B_{2,3}$."
   ]
  },
  {
   "cell_type": "code",
   "execution_count": 13,
   "metadata": {},
   "outputs": [
    {
     "data": {
      "text/plain": [
       "array([[3.4, 6.4, 8.6, 3.9],\n",
       "       [2.7, 9.4, 5.8, 2.8],\n",
       "       [3.9, 6.7, 9.9, 4.7],\n",
       "       [7.1, 8.7, 5.9, 8.8]])"
      ]
     },
     "execution_count": 13,
     "metadata": {},
     "output_type": "execute_result"
    }
   ],
   "source": [
    "# DO NOT CHANGE\n",
    "\n",
    "q4 = np.array([[3.4, 6.4, 8.6, 3.9],\n",
    "               [2.7, 9.4, 5.8, 2.8],\n",
    "               [3.9, 6.7, 9.9, 4.7],\n",
    "               [7.1, 8.7, 5.9, 8.8]])\n",
    "q4"
   ]
  },
  {
   "cell_type": "code",
   "execution_count": 14,
   "metadata": {},
   "outputs": [],
   "source": [
    "# YOUR CHANGES HERE\n",
    "\n",
    "p4 = q4[1, 2]"
   ]
  },
  {
   "cell_type": "code",
   "execution_count": 15,
   "metadata": {},
   "outputs": [
    {
     "data": {
      "text/plain": [
       "np.float64(5.8)"
      ]
     },
     "execution_count": 15,
     "metadata": {},
     "output_type": "execute_result"
    }
   ],
   "source": [
    "p4"
   ]
  },
  {
   "cell_type": "markdown",
   "metadata": {},
   "source": [
    "### Problem 5\n",
    "\n",
    "Set `p5` to the transpose of $\\begin{bmatrix}2.6 & 4.2 \\\\ 3.3 & 6.2 \\\\ \\end{bmatrix}$?"
   ]
  },
  {
   "cell_type": "markdown",
   "metadata": {},
   "source": [
    "Hint:  Use `np.asarray` if you need help creating an array."
   ]
  },
  {
   "cell_type": "code",
   "execution_count": 16,
   "metadata": {},
   "outputs": [],
   "source": [
    "# YOUR CHANGES HERE\n",
    "A = np.array([[2.6, 4.2],\n",
    "              [3.3, 6.2]])\n",
    "# transpose is swapping the rows and columsn of a matrix\n",
    "p5 = A.T"
   ]
  },
  {
   "cell_type": "code",
   "execution_count": 17,
   "metadata": {},
   "outputs": [
    {
     "data": {
      "text/plain": [
       "array([[2.6, 3.3],\n",
       "       [4.2, 6.2]])"
      ]
     },
     "execution_count": 17,
     "metadata": {},
     "output_type": "execute_result"
    }
   ],
   "source": [
    "p5"
   ]
  },
  {
   "cell_type": "markdown",
   "metadata": {},
   "source": [
    "### Problem 6\n",
    "\n",
    "Set `p6` to $\\begin{bmatrix} 1 & 2 \\\\ \\end{bmatrix} \\begin{bmatrix} 3 & 4 \\\\ 2.5 & 3.5 \\\\ \\end{bmatrix}$.\n"
   ]
  },
  {
   "cell_type": "markdown",
   "metadata": {},
   "source": [
    "Hint: You can do this by hand, or setup the correct arrays and use NumPy's @ operator for matrix multiplication."
   ]
  },
  {
   "cell_type": "code",
   "execution_count": 18,
   "metadata": {},
   "outputs": [],
   "source": [
    "# YOUR CHANGES HERE\n",
    "v = np.array([1, 2])\n",
    "M = np.array([[3, 4],\n",
    "              [2.5, 3.5]])\n",
    "p6 = v @ M\n"
   ]
  },
  {
   "cell_type": "code",
   "execution_count": 19,
   "metadata": {},
   "outputs": [
    {
     "data": {
      "text/plain": [
       "array([ 8., 11.])"
      ]
     },
     "execution_count": 19,
     "metadata": {},
     "output_type": "execute_result"
    }
   ],
   "source": [
    "p6"
   ]
  },
  {
   "cell_type": "markdown",
   "metadata": {},
   "source": [
    "### Problem 7\n",
    "\n",
    "Given $B = \\begin{bmatrix} 0.2 & 0.8 \\\\ 0.3 & 0.7 \\\\ \\end{bmatrix}$ which is stored in `q7`, set `p7` to $B B^T$?"
   ]
  },
  {
   "cell_type": "markdown",
   "metadata": {},
   "source": [
    "Hint: this will be much more convenient to calculate using the `.T` attribute of NumPy arrays which returns the array's transpose, and the `@` operator for matrix multiplication."
   ]
  },
  {
   "cell_type": "code",
   "execution_count": 20,
   "metadata": {},
   "outputs": [
    {
     "data": {
      "text/plain": [
       "array([[0.2, 0.8],\n",
       "       [0.3, 0.7]])"
      ]
     },
     "execution_count": 20,
     "metadata": {},
     "output_type": "execute_result"
    }
   ],
   "source": [
    "# DO NOT CHANGE\n",
    "\n",
    "q7 = np.array([[0.2, 0.8], [0.3, 0.7]])\n",
    "q7"
   ]
  },
  {
   "cell_type": "code",
   "execution_count": 21,
   "metadata": {},
   "outputs": [
    {
     "data": {
      "text/plain": [
       "array([[0.2, 0.3],\n",
       "       [0.8, 0.7]])"
      ]
     },
     "execution_count": 21,
     "metadata": {},
     "output_type": "execute_result"
    }
   ],
   "source": [
    "# DO NOT CHANGE\n",
    "\n",
    "q7.T"
   ]
  },
  {
   "cell_type": "code",
   "execution_count": 22,
   "metadata": {},
   "outputs": [],
   "source": [
    "# YOUR CHANGES HERE\n",
    "# matrix multiplication of matrix transpse and original matrix\n",
    "p7 = q7.T @ q7"
   ]
  },
  {
   "cell_type": "code",
   "execution_count": 23,
   "metadata": {},
   "outputs": [
    {
     "data": {
      "text/plain": [
       "array([[0.13, 0.37],\n",
       "       [0.37, 1.13]])"
      ]
     },
     "execution_count": 23,
     "metadata": {},
     "output_type": "execute_result"
    }
   ],
   "source": [
    "p7"
   ]
  },
  {
   "cell_type": "markdown",
   "metadata": {},
   "source": [
    "### Problem 8\n",
    "\n",
    "What is the final shape from multiplying matrices of the following sequence of sizes? $3 \\times 6, 6 \\times 234, 234 \\times 5, 5 \\times 155, 155 \\times 2$.\n",
    "Set `p8` to your answer a tuple of two integers."
   ]
  },
  {
   "cell_type": "markdown",
   "metadata": {},
   "source": [
    "Hint: if the output of the matrix multiplication will have dimensions $m \\times n$, the tuple should be `(m, n)`."
   ]
  },
  {
   "cell_type": "code",
   "execution_count": 24,
   "metadata": {},
   "outputs": [],
   "source": [
    "# YOUR CHANGE HERE\n",
    "#use the rows of the first martix and columns of the second matrix\n",
    "p8 = (3,2)"
   ]
  },
  {
   "cell_type": "code",
   "execution_count": 25,
   "metadata": {},
   "outputs": [
    {
     "data": {
      "text/plain": [
       "(3, 2)"
      ]
     },
     "execution_count": 25,
     "metadata": {},
     "output_type": "execute_result"
    }
   ],
   "source": [
    "p8"
   ]
  },
  {
   "cell_type": "markdown",
   "metadata": {},
   "source": [
    "### Problem 9\n",
    "\n",
    "Consider a fully connected neural network with 2 inputs, 1 hidden layer of width 1024, and 1 output.\n",
    "How many elements are in each of the weight matrices?\n",
    "Set `p9` to be a list of the number of elements in each weight matrix starting from the input side of the neural network."
   ]
  },
  {
   "cell_type": "code",
   "execution_count": 26,
   "metadata": {},
   "outputs": [],
   "source": [
    "# YOUR CHANGES HERE\n",
    "#input layer is 2 neurons and hidden layer is 1 nueron, multiply using the width\n",
    "p9 = [2048, 1024]"
   ]
  },
  {
   "cell_type": "code",
   "execution_count": 27,
   "metadata": {},
   "outputs": [
    {
     "data": {
      "text/plain": [
       "[2048, 1024]"
      ]
     },
     "execution_count": 27,
     "metadata": {},
     "output_type": "execute_result"
    }
   ],
   "source": [
    "p9"
   ]
  },
  {
   "cell_type": "markdown",
   "metadata": {},
   "source": [
    "### Problem 10\n",
    "\n",
    "Consider a fully connected neural network with 2 inputs, 3 hidden layers of width 1024, and 1 output.\n",
    "How many elements are in each of the weight matrices?\n",
    "Set `p10` to be a list of the number of elements in each weight matrix starting from the input side of the neural network."
   ]
  },
  {
   "cell_type": "code",
   "execution_count": 28,
   "metadata": {},
   "outputs": [
    {
     "name": "stdout",
     "output_type": "stream",
     "text": [
      "6144\n",
      "3072\n"
     ]
    }
   ],
   "source": [
    "# YOUR CHANGES HERE\n",
    "print(3 * 1024 * 2)\n",
    "print(3 * 1024)\n",
    "\n",
    "p10 = [6144, 3072]"
   ]
  },
  {
   "cell_type": "code",
   "execution_count": 29,
   "metadata": {},
   "outputs": [
    {
     "data": {
      "text/plain": [
       "[6144, 3072]"
      ]
     },
     "execution_count": 29,
     "metadata": {},
     "output_type": "execute_result"
    }
   ],
   "source": [
    "p10"
   ]
  },
  {
   "cell_type": "markdown",
   "metadata": {},
   "source": [
    "### Problem 11\n",
    "\n",
    "Write a function `p11` taking in a vector as input and calculating its magnitude."
   ]
  },
  {
   "cell_type": "markdown",
   "metadata": {},
   "source": [
    "Hint: There are several ways to do this depending whether you are comfortable with NumPy or not.\n",
    "A pure Python implementation will have many similar elements to calculating the standard deviation back in week 2."
   ]
  },
  {
   "cell_type": "code",
   "execution_count": 30,
   "metadata": {},
   "outputs": [],
   "source": [
    "# YOUR CHANGES HERE\n",
    "\n",
    "#magnitude of vector is using pythagorean theorem\n",
    "def p11(v):\n",
    "    return np.linalg.norm(v)"
   ]
  },
  {
   "cell_type": "code",
   "execution_count": 31,
   "metadata": {},
   "outputs": [
    {
     "data": {
      "text/plain": [
       "np.float64(5.0)"
      ]
     },
     "execution_count": 31,
     "metadata": {},
     "output_type": "execute_result"
    }
   ],
   "source": [
    "# this should return 5\n",
    "p11([3, 4])"
   ]
  },
  {
   "cell_type": "markdown",
   "metadata": {},
   "source": [
    "### Problem 12\n",
    "\n",
    "Write a function `p12` that takes in a $3 \\times 3$ matrix $A$ and computes the sum of the entries on the diagonal.\n",
    "\n",
    "This function is called the trace of $A$ and is defined for all sizes of square matrices, but you just need to handle $3 \\times 3$ now.\n"
   ]
  },
  {
   "cell_type": "markdown",
   "metadata": {},
   "source": [
    "Hint: Since you only need to handle a single size matrix, you can just write this as simple additions without loops."
   ]
  },
  {
   "cell_type": "code",
   "execution_count": 32,
   "metadata": {},
   "outputs": [],
   "source": [
    "# YOUR CHANGES HERE\n",
    "\n",
    "def p12(A):\n",
    "    return (A[0][0]) + (A[1][1]) + (A[2][2])"
   ]
  },
  {
   "cell_type": "code",
   "execution_count": 33,
   "metadata": {},
   "outputs": [
    {
     "data": {
      "text/plain": [
       "array([[1, 0, 0],\n",
       "       [0, 1, 0],\n",
       "       [0, 0, 1]])"
      ]
     },
     "execution_count": 33,
     "metadata": {},
     "output_type": "execute_result"
    }
   ],
   "source": [
    "t12a = np.array([[1, 0, 0], [0, 1, 0], [0, 0, 1]])\n",
    "t12a"
   ]
  },
  {
   "cell_type": "code",
   "execution_count": 34,
   "metadata": {},
   "outputs": [
    {
     "data": {
      "text/plain": [
       "np.int64(3)"
      ]
     },
     "execution_count": 34,
     "metadata": {},
     "output_type": "execute_result"
    }
   ],
   "source": [
    "# this should return 3\n",
    "p12(t12a)"
   ]
  },
  {
   "cell_type": "code",
   "execution_count": 35,
   "metadata": {},
   "outputs": [
    {
     "data": {
      "text/plain": [
       "array([[5, 1, 3],\n",
       "       [2, 5, 5],\n",
       "       [6, 1, 3]])"
      ]
     },
     "execution_count": 35,
     "metadata": {},
     "output_type": "execute_result"
    }
   ],
   "source": [
    "t12b = np.array([[5,1,3], [2,5,5], [6, 1, 3]])\n",
    "t12b"
   ]
  },
  {
   "cell_type": "code",
   "execution_count": 36,
   "metadata": {},
   "outputs": [
    {
     "data": {
      "text/plain": [
       "np.int64(13)"
      ]
     },
     "execution_count": 36,
     "metadata": {},
     "output_type": "execute_result"
    }
   ],
   "source": [
    "# this should return 13\n",
    "p12(t12b)"
   ]
  },
  {
   "cell_type": "markdown",
   "metadata": {},
   "source": [
    "### Problem 13\n",
    "\n",
    "Set `p13` to be a tuple of the $x$ and $y$ values solving the following two equations.\n",
    "\n",
    "\\begin{array}{rcl}\n",
    "3x + 4y & = & 18 \\\\\n",
    "-2x + 5y & = & 11 \\\\\n",
    "\\end{array}"
   ]
  },
  {
   "cell_type": "markdown",
   "metadata": {},
   "source": [
    "Hint: This is an easy instance where both $x$ and $y$ are small integers.\n",
    "You can solve it by plotting both lines as done in one of the videos and checking where they intersect.\n",
    "Of course, you should check your answer by plugging it back into the previous equations."
   ]
  },
  {
   "cell_type": "code",
   "execution_count": 37,
   "metadata": {},
   "outputs": [],
   "source": [
    "# YOUR CHANGES HERE\n",
    "\n",
    "# set p13 to be (x, y)\n",
    "p13 = (2,3)"
   ]
  },
  {
   "cell_type": "code",
   "execution_count": 38,
   "metadata": {},
   "outputs": [
    {
     "data": {
      "text/plain": [
       "(2, 3)"
      ]
     },
     "execution_count": 38,
     "metadata": {},
     "output_type": "execute_result"
    }
   ],
   "source": [
    "p13"
   ]
  },
  {
   "cell_type": "markdown",
   "metadata": {},
   "source": [
    "### Problem 14\n",
    "\n",
    "Set `p14` to be the vector from the following list with the highest magnitude.\n",
    "\n",
    "* $[1, 1, 1, 1, 1, 1, 1, 1, 1, 1]$\n",
    "* $[2, 2, 2, 2, 2]$\n",
    "* $[3, 3, 3]$\n",
    "* $[4, 4]$\n",
    "* $[5]$"
   ]
  },
  {
   "cell_type": "code",
   "execution_count": 39,
   "metadata": {},
   "outputs": [],
   "source": [
    "# YOUR CHANGES HERE\n",
    "#square everything, add togther, and take sqaure root\n",
    "\n",
    "p14 = [4, 4]"
   ]
  },
  {
   "cell_type": "code",
   "execution_count": 40,
   "metadata": {},
   "outputs": [
    {
     "data": {
      "text/plain": [
       "[4, 4]"
      ]
     },
     "execution_count": 40,
     "metadata": {},
     "output_type": "execute_result"
    }
   ],
   "source": [
    "p14"
   ]
  },
  {
   "cell_type": "markdown",
   "metadata": {},
   "source": [
    "### Problem 15\n",
    "\n",
    "Which of the following vectors could **not** be a principal component from PCA?\n",
    "\n",
    "a. $[\\frac{1}{2}, 0, \\frac{1}{2}, 0, \\frac{1}{2}, \\frac{1}{2}]$\n",
    "\n",
    "b. $[\\frac{1}{4}, \\frac{1}{4}, \\frac{1}{2}]$\n",
    "\n",
    "c. $[\\frac{1}{4}, \\frac{3}{4}, \\frac{1}{4}, \\frac{1}{2}, \\frac{1}{4}]$\n",
    "\n",
    "Set `p15` to \"a\", \"b\", or \"c\" to indicate your answer."
   ]
  },
  {
   "cell_type": "markdown",
   "metadata": {},
   "source": [
    "Hint: What parts of the principal components definition are not related to the data?"
   ]
  },
  {
   "cell_type": "code",
   "execution_count": 41,
   "metadata": {},
   "outputs": [],
   "source": [
    "# YOUR CHANGES HERE\n",
    "# you need unit-lenght eignvectors (magnitude should be 1)\n",
    "p15 = \"c\""
   ]
  },
  {
   "cell_type": "markdown",
   "metadata": {},
   "source": [
    "### Problem 16\n",
    "\n",
    "Set `p16` to the first principal component of the abalone data set.\n",
    "Give it in the form of a one row data frame like in the Palmer Penguins example."
   ]
  },
  {
   "cell_type": "markdown",
   "metadata": {},
   "source": [
    "Hint: Don't forget the example code from the videos is linked in the repositories linked above."
   ]
  },
  {
   "cell_type": "code",
   "execution_count": 42,
   "metadata": {},
   "outputs": [
    {
     "name": "stdout",
     "output_type": "stream",
     "text": [
      "      Length  Diameter  Height  Whole_weight  Shucked_weight  Viscera_weight  \\\n",
      "0      0.455     0.365   0.095        0.5140          0.2245          0.1010   \n",
      "1      0.350     0.265   0.090        0.2255          0.0995          0.0485   \n",
      "2      0.530     0.420   0.135        0.6770          0.2565          0.1415   \n",
      "3      0.440     0.365   0.125        0.5160          0.2155          0.1140   \n",
      "4      0.330     0.255   0.080        0.2050          0.0895          0.0395   \n",
      "...      ...       ...     ...           ...             ...             ...   \n",
      "4172   0.565     0.450   0.165        0.8870          0.3700          0.2390   \n",
      "4173   0.590     0.440   0.135        0.9660          0.4390          0.2145   \n",
      "4174   0.600     0.475   0.205        1.1760          0.5255          0.2875   \n",
      "4175   0.625     0.485   0.150        1.0945          0.5310          0.2610   \n",
      "4176   0.710     0.555   0.195        1.9485          0.9455          0.3765   \n",
      "\n",
      "      Shell_weight  \n",
      "0           0.1500  \n",
      "1           0.0700  \n",
      "2           0.2100  \n",
      "3           0.1550  \n",
      "4           0.0550  \n",
      "...            ...  \n",
      "4172        0.2490  \n",
      "4173        0.2605  \n",
      "4174        0.3080  \n",
      "4175        0.2960  \n",
      "4176        0.4950  \n",
      "\n",
      "[4177 rows x 7 columns]\n"
     ]
    }
   ],
   "source": [
    "# YOUR CHANGES HERE\n",
    "\n",
    "abalone_numeric_columns = [c for c in abalone.columns if abalone[c].dtype.name == 'float64']\n",
    "print(abalone[abalone_numeric_columns])\n",
    "\n",
    "p16 = ..."
   ]
  },
  {
   "cell_type": "code",
   "execution_count": 43,
   "metadata": {},
   "outputs": [
    {
     "data": {
      "text/html": [
       "<div>\n",
       "<style scoped>\n",
       "    .dataframe tbody tr th:only-of-type {\n",
       "        vertical-align: middle;\n",
       "    }\n",
       "\n",
       "    .dataframe tbody tr th {\n",
       "        vertical-align: top;\n",
       "    }\n",
       "\n",
       "    .dataframe thead th {\n",
       "        text-align: right;\n",
       "    }\n",
       "</style>\n",
       "<table border=\"1\" class=\"dataframe\">\n",
       "  <thead>\n",
       "    <tr style=\"text-align: right;\">\n",
       "      <th></th>\n",
       "      <th>Length</th>\n",
       "      <th>Diameter</th>\n",
       "      <th>Height</th>\n",
       "      <th>Whole_weight</th>\n",
       "      <th>Shucked_weight</th>\n",
       "      <th>Viscera_weight</th>\n",
       "      <th>Shell_weight</th>\n",
       "    </tr>\n",
       "  </thead>\n",
       "  <tbody>\n",
       "    <tr>\n",
       "      <th>0</th>\n",
       "      <td>0.193156</td>\n",
       "      <td>0.159552</td>\n",
       "      <td>0.059283</td>\n",
       "      <td>0.842619</td>\n",
       "      <td>0.371959</td>\n",
       "      <td>0.182251</td>\n",
       "      <td>0.228349</td>\n",
       "    </tr>\n",
       "    <tr>\n",
       "      <th>1</th>\n",
       "      <td>-0.350069</td>\n",
       "      <td>-0.318821</td>\n",
       "      <td>-0.134752</td>\n",
       "      <td>-0.018824</td>\n",
       "      <td>0.703432</td>\n",
       "      <td>-0.012948</td>\n",
       "      <td>-0.512161</td>\n",
       "    </tr>\n",
       "    <tr>\n",
       "      <th>2</th>\n",
       "      <td>0.655436</td>\n",
       "      <td>0.505473</td>\n",
       "      <td>0.086080</td>\n",
       "      <td>-0.311470</td>\n",
       "      <td>0.337272</td>\n",
       "      <td>-0.025061</td>\n",
       "      <td>-0.309994</td>\n",
       "    </tr>\n",
       "    <tr>\n",
       "      <th>3</th>\n",
       "      <td>0.038785</td>\n",
       "      <td>-0.018060</td>\n",
       "      <td>-0.004683</td>\n",
       "      <td>0.127977</td>\n",
       "      <td>-0.353767</td>\n",
       "      <td>0.762978</td>\n",
       "      <td>-0.523912</td>\n",
       "    </tr>\n",
       "    <tr>\n",
       "      <th>4</th>\n",
       "      <td>-0.155845</td>\n",
       "      <td>-0.074836</td>\n",
       "      <td>0.924448</td>\n",
       "      <td>-0.167979</td>\n",
       "      <td>0.162444</td>\n",
       "      <td>0.207282</td>\n",
       "      <td>0.133925</td>\n",
       "    </tr>\n",
       "    <tr>\n",
       "      <th>5</th>\n",
       "      <td>0.000561</td>\n",
       "      <td>-0.030203</td>\n",
       "      <td>-0.337705</td>\n",
       "      <td>-0.384695</td>\n",
       "      <td>0.318403</td>\n",
       "      <td>0.582881</td>\n",
       "      <td>0.543987</td>\n",
       "    </tr>\n",
       "    <tr>\n",
       "      <th>6</th>\n",
       "      <td>-0.620285</td>\n",
       "      <td>0.781380</td>\n",
       "      <td>-0.047395</td>\n",
       "      <td>-0.006248</td>\n",
       "      <td>0.012573</td>\n",
       "      <td>0.033733</td>\n",
       "      <td>-0.033322</td>\n",
       "    </tr>\n",
       "  </tbody>\n",
       "</table>\n",
       "</div>"
      ],
      "text/plain": [
       "     Length  Diameter    Height  Whole_weight  Shucked_weight  Viscera_weight  \\\n",
       "0  0.193156  0.159552  0.059283      0.842619        0.371959        0.182251   \n",
       "1 -0.350069 -0.318821 -0.134752     -0.018824        0.703432       -0.012948   \n",
       "2  0.655436  0.505473  0.086080     -0.311470        0.337272       -0.025061   \n",
       "3  0.038785 -0.018060 -0.004683      0.127977       -0.353767        0.762978   \n",
       "4 -0.155845 -0.074836  0.924448     -0.167979        0.162444        0.207282   \n",
       "5  0.000561 -0.030203 -0.337705     -0.384695        0.318403        0.582881   \n",
       "6 -0.620285  0.781380 -0.047395     -0.006248        0.012573        0.033733   \n",
       "\n",
       "   Shell_weight  \n",
       "0      0.228349  \n",
       "1     -0.512161  \n",
       "2     -0.309994  \n",
       "3     -0.523912  \n",
       "4      0.133925  \n",
       "5      0.543987  \n",
       "6     -0.033322  "
      ]
     },
     "execution_count": 43,
     "metadata": {},
     "output_type": "execute_result"
    }
   ],
   "source": [
    "from sklearn.decomposition import PCA\n",
    "pca = PCA()\n",
    "pca.fit(abalone[abalone_numeric_columns].dropna())\n",
    "abalone_components = pd.DataFrame(pca.components_, columns=abalone_numeric_columns)\n",
    "abalone_components"
   ]
  },
  {
   "cell_type": "code",
   "execution_count": 44,
   "metadata": {},
   "outputs": [],
   "source": [
    "for i in range(abalone_components.shape[0]):\n",
    "    abalone[f\"pca_{i}\"] = abalone[abalone_numeric_columns] @ abalone_components.iloc[i].T"
   ]
  },
  {
   "cell_type": "code",
   "execution_count": 45,
   "metadata": {},
   "outputs": [
    {
     "data": {
      "image/png": "[encoded data removed]",
      "text/plain": [
       "<Figure size 640x480 with 1 Axes>"
      ]
     },
     "metadata": {},
     "output_type": "display_data"
    }
   ],
   "source": [
    "p16 = abalone.plot.scatter(\"pca_0\", \"pca_1\", alpha=0.5)"
   ]
  },
  {
   "cell_type": "markdown",
   "metadata": {},
   "source": [
    "### Problem 17\n",
    "\n",
    "The data in `q17` below was calculated using a quadratic formula of the form $y = ax^2 + bx + c$.\n",
    "\n",
    "Set `p17a` to be a matrix suitable as input to linear regression to solve the quadratic regression problem.\n",
    "That is, `p17a` should have columns $x^2$, $x$ and optionally $1$ depending on how you prefer to run the linear regression.\n",
    "\n",
    "\n",
    "Run the linear regression problem, and set `p17b` to be a tuple of the coefficients from the quadratic regression problem.\n",
    "If your analysis picks coefficients $a$, $b$, and $c$ as used above, then the answer should be `(a, b, c)`."
   ]
  },
  {
   "cell_type": "code",
   "execution_count": 46,
   "metadata": {},
   "outputs": [
    {
     "data": {
      "text/html": [
       "<div>\n",
       "<style scoped>\n",
       "    .dataframe tbody tr th:only-of-type {\n",
       "        vertical-align: middle;\n",
       "    }\n",
       "\n",
       "    .dataframe tbody tr th {\n",
       "        vertical-align: top;\n",
       "    }\n",
       "\n",
       "    .dataframe thead th {\n",
       "        text-align: right;\n",
       "    }\n",
       "</style>\n",
       "<table border=\"1\" class=\"dataframe\">\n",
       "  <thead>\n",
       "    <tr style=\"text-align: right;\">\n",
       "      <th></th>\n",
       "      <th>x</th>\n",
       "      <th>y</th>\n",
       "    </tr>\n",
       "  </thead>\n",
       "  <tbody>\n",
       "    <tr>\n",
       "      <th>0</th>\n",
       "      <td>0</td>\n",
       "      <td>5</td>\n",
       "    </tr>\n",
       "    <tr>\n",
       "      <th>1</th>\n",
       "      <td>1</td>\n",
       "      <td>6</td>\n",
       "    </tr>\n",
       "    <tr>\n",
       "      <th>2</th>\n",
       "      <td>2</td>\n",
       "      <td>13</td>\n",
       "    </tr>\n",
       "    <tr>\n",
       "      <th>3</th>\n",
       "      <td>3</td>\n",
       "      <td>26</td>\n",
       "    </tr>\n",
       "    <tr>\n",
       "      <th>4</th>\n",
       "      <td>4</td>\n",
       "      <td>45</td>\n",
       "    </tr>\n",
       "    <tr>\n",
       "      <th>5</th>\n",
       "      <td>5</td>\n",
       "      <td>70</td>\n",
       "    </tr>\n",
       "    <tr>\n",
       "      <th>6</th>\n",
       "      <td>6</td>\n",
       "      <td>101</td>\n",
       "    </tr>\n",
       "    <tr>\n",
       "      <th>7</th>\n",
       "      <td>7</td>\n",
       "      <td>138</td>\n",
       "    </tr>\n",
       "    <tr>\n",
       "      <th>8</th>\n",
       "      <td>8</td>\n",
       "      <td>181</td>\n",
       "    </tr>\n",
       "    <tr>\n",
       "      <th>9</th>\n",
       "      <td>9</td>\n",
       "      <td>230</td>\n",
       "    </tr>\n",
       "  </tbody>\n",
       "</table>\n",
       "</div>"
      ],
      "text/plain": [
       "   x    y\n",
       "0  0    5\n",
       "1  1    6\n",
       "2  2   13\n",
       "3  3   26\n",
       "4  4   45\n",
       "5  5   70\n",
       "6  6  101\n",
       "7  7  138\n",
       "8  8  181\n",
       "9  9  230"
      ]
     },
     "execution_count": 46,
     "metadata": {},
     "output_type": "execute_result"
    }
   ],
   "source": [
    "# DO NOT CHANGE\n",
    "\n",
    "q17 = pd.DataFrame(data={\"x\": [0, 1, 2, 3, 4, 5, 6, 7, 8, 9], \"y\": [5, 6, 13, 26, 45, 70, 101, 138, 181, 230]})\n",
    "q17"
   ]
  },
  {
   "cell_type": "code",
   "execution_count": 47,
   "metadata": {},
   "outputs": [],
   "source": [
    "# YOUR CHANGES HERE\n",
    "x = q17[\"x\"].values\n",
    "y = q17[\"y\"].values\n",
    "p17a = np.column_stack((x**2, x, np.ones_like(x)))\n"
   ]
  },
  {
   "cell_type": "code",
   "execution_count": 48,
   "metadata": {},
   "outputs": [
    {
     "data": {
      "text/plain": [
       "array([[ 0,  0,  1],\n",
       "       [ 1,  1,  1],\n",
       "       [ 4,  2,  1],\n",
       "       [ 9,  3,  1],\n",
       "       [16,  4,  1],\n",
       "       [25,  5,  1],\n",
       "       [36,  6,  1],\n",
       "       [49,  7,  1],\n",
       "       [64,  8,  1],\n",
       "       [81,  9,  1]])"
      ]
     },
     "execution_count": 48,
     "metadata": {},
     "output_type": "execute_result"
    }
   ],
   "source": [
    "p17a"
   ]
  },
  {
   "cell_type": "code",
   "execution_count": 60,
   "metadata": {},
   "outputs": [],
   "source": [
    "# YOUR CHANGES HERE\n",
    "coeffs, *_ = np.linalg.lstsq(p17a, y, rcond=None)\n",
    "a, b, c = coeffs\n",
    "p17b = (float(a), float(b), float(c))\n"
   ]
  },
  {
   "cell_type": "code",
   "execution_count": 61,
   "metadata": {},
   "outputs": [
    {
     "data": {
      "text/plain": [
       "(3.0000000000000018, -2.0000000000000187, 5.000000000000046)"
      ]
     },
     "execution_count": 61,
     "metadata": {},
     "output_type": "execute_result"
    }
   ],
   "source": [
    "p17b"
   ]
  },
  {
   "cell_type": "markdown",
   "metadata": {},
   "source": [
    "### Problem 18\n",
    "\n",
    "Set `p18` to the inverse of the matrix $A$ in `q18`."
   ]
  },
  {
   "cell_type": "markdown",
   "metadata": {},
   "source": [
    "Hint: Try a few examples to understand what multiplying by matrix $A$ does to the other matrix."
   ]
  },
  {
   "cell_type": "code",
   "execution_count": 51,
   "metadata": {},
   "outputs": [
    {
     "data": {
      "text/plain": [
       "array([[1, 0, 0],\n",
       "       [0, 0, 1],\n",
       "       [0, 1, 0]])"
      ]
     },
     "execution_count": 51,
     "metadata": {},
     "output_type": "execute_result"
    }
   ],
   "source": [
    "# DO NOT CHANGE\n",
    "\n",
    "q18 = np.array([[1, 0, 0], [0, 0, 1], [0, 1, 0]])\n",
    "q18"
   ]
  },
  {
   "cell_type": "code",
   "execution_count": 52,
   "metadata": {},
   "outputs": [],
   "source": [
    "# YOUR CHANGES HERE\n",
    "\n",
    "p18 = np.linalg.inv(q18)"
   ]
  },
  {
   "cell_type": "code",
   "execution_count": 53,
   "metadata": {},
   "outputs": [
    {
     "data": {
      "text/plain": [
       "array([[1., 0., 0.],\n",
       "       [0., 1., 0.],\n",
       "       [0., 0., 1.]])"
      ]
     },
     "execution_count": 53,
     "metadata": {},
     "output_type": "execute_result"
    }
   ],
   "source": [
    "# this will multiply p18 by q18 after you assign a matrix to p18.\n",
    "# the result should be an identity matrix.\n",
    "\n",
    "# wheninverse is multiplied by the original matrix, it results in the identity matrix\n",
    "p18 @ q18 if isinstance(p18, type(q18)) else None\n"
   ]
  },
  {
   "cell_type": "markdown",
   "metadata": {},
   "source": [
    "### Problem 19\n",
    "\n",
    "Set `p19` to be the result of the matrix multiplication $\\mathbf{XY}$ where $\\mathbf{X}$ and $\\mathbf{Y}$ are respectively stored in `x19` and `y19`."
   ]
  },
  {
   "cell_type": "markdown",
   "metadata": {},
   "source": [
    "Hint: While this could be solved by hand, we strongly encourage you to use NumPy's matrix multiplication support.\n",
    "You can invoke it with the function [`np.matmul`](https://numpy.org/doc/stable/reference/generated/numpy.matmul.html) or the `@` operator which invokes the save functionality.\n",
    "Matrix multiplication is used a lot in linear algebra and it is worth knowing the easy ways to compute it."
   ]
  },
  {
   "cell_type": "code",
   "execution_count": 54,
   "metadata": {},
   "outputs": [
    {
     "data": {
      "text/plain": [
       "array([[0, 6, 1, 9, 3],\n",
       "       [3, 5, 9, 8, 4],\n",
       "       [1, 5, 1, 6, 0],\n",
       "       [6, 0, 0, 9, 8],\n",
       "       [0, 7, 3, 5, 5]])"
      ]
     },
     "execution_count": 54,
     "metadata": {},
     "output_type": "execute_result"
    }
   ],
   "source": [
    "# DO NOT CHANGE\n",
    "\n",
    "x19 = np.array([[0, 6, 1, 9, 3],\n",
    "       [3, 5, 9, 8, 4],\n",
    "       [1, 5, 1, 6, 0],\n",
    "       [6, 0, 0, 9, 8],\n",
    "       [0, 7, 3, 5, 5]])\n",
    "x19"
   ]
  },
  {
   "cell_type": "code",
   "execution_count": 55,
   "metadata": {},
   "outputs": [
    {
     "data": {
      "text/plain": [
       "array([[1, 1, 7, 0, 9],\n",
       "       [3, 9, 1, 9, 5],\n",
       "       [3, 0, 4, 3, 4],\n",
       "       [9, 7, 1, 3, 9],\n",
       "       [2, 0, 5, 2, 6]])"
      ]
     },
     "execution_count": 55,
     "metadata": {},
     "output_type": "execute_result"
    }
   ],
   "source": [
    "y19 = np.array([[1, 1, 7, 0, 9],\n",
    "       [3, 9, 1, 9, 5],\n",
    "       [3, 0, 4, 3, 4],\n",
    "       [9, 7, 1, 3, 9],\n",
    "       [2, 0, 5, 2, 6]])\n",
    "y19"
   ]
  },
  {
   "cell_type": "code",
   "execution_count": 56,
   "metadata": {},
   "outputs": [],
   "source": [
    "# YOUR CHANGES HERE\n",
    "\n",
    "p19 = x19 @ y19"
   ]
  },
  {
   "cell_type": "code",
   "execution_count": 57,
   "metadata": {},
   "outputs": [
    {
     "data": {
      "text/plain": [
       "array([[108, 117,  34,  90, 133],\n",
       "       [125, 104,  90, 104, 184],\n",
       "       [ 73,  88,  22,  66,  92],\n",
       "       [103,  69,  91,  43, 183],\n",
       "       [ 85,  98,  49,  97, 122]])"
      ]
     },
     "execution_count": 57,
     "metadata": {},
     "output_type": "execute_result"
    }
   ],
   "source": [
    "p19"
   ]
  },
  {
   "cell_type": "markdown",
   "metadata": {},
   "source": [
    "### Problem 20\n",
    "\n",
    "Given the following chart, derive an equation for the line plotted in the form $ax + by = c$.\n",
    "Set `p20` to be the tuple `(a, b, c)` that you derived."
   ]
  },
  {
   "cell_type": "markdown",
   "metadata": {},
   "source": [
    "Hint: the line intercepts are as simple as they appear. The $x$ intercept is at $y = 3$, and the $y$ intercept is at $x=5$."
   ]
  },
  {
   "cell_type": "code",
   "execution_count": 58,
   "metadata": {},
   "outputs": [
    {
     "data": {
      "text/plain": [
       "[<matplotlib.lines.Line2D at 0x7d75a822cec0>]"
      ]
     },
     "execution_count": 58,
     "metadata": {},
     "output_type": "execute_result"
    },
    {
     "data": {
      "image/png": "[encoded data removed]",
      "text/plain": [
       "<Figure size 640x480 with 1 Axes>"
      ]
     },
     "metadata": {},
     "output_type": "display_data"
    }
   ],
   "source": [
    "# DO NOT CHANGE\n",
    "\n",
    "xs = np.array([-1.        , -0.85714286, -0.71428571, -0.57142857, -0.42857143,\n",
    "       -0.28571429, -0.14285714,  0.        ,  0.14285714,  0.28571429,\n",
    "        0.42857143,  0.57142857,  0.71428571,  0.85714286,  1.        ,\n",
    "        1.14285714,  1.28571429,  1.42857143,  1.57142857,  1.71428571,\n",
    "        1.85714286,  2.        ,  2.14285714,  2.28571429,  2.42857143,\n",
    "        2.57142857,  2.71428571,  2.85714286,  3.        ,  3.14285714,\n",
    "        3.28571429,  3.42857143,  3.57142857,  3.71428571,  3.85714286,\n",
    "        4.        ,  4.14285714,  4.28571429,  4.42857143,  4.57142857,\n",
    "        4.71428571,  4.85714286,  5.        ,  5.14285714,  5.28571429,\n",
    "        5.42857143,  5.57142857,  5.71428571,  5.85714286,  6.        ])\n",
    "ys = np.array([ 3.6       ,  3.51428571,  3.42857143,  3.34285714,  3.25714286,\n",
    "        3.17142857,  3.08571429,  3.        ,  2.91428571,  2.82857143,\n",
    "        2.74285714,  2.65714286,  2.57142857,  2.48571429,  2.4       ,\n",
    "        2.31428571,  2.22857143,  2.14285714,  2.05714286,  1.97142857,\n",
    "        1.88571429,  1.8       ,  1.71428571,  1.62857143,  1.54285714,\n",
    "        1.45714286,  1.37142857,  1.28571429,  1.2       ,  1.11428571,\n",
    "        1.02857143,  0.94285714,  0.85714286,  0.77142857,  0.68571429,\n",
    "        0.6       ,  0.51428571,  0.42857143,  0.34285714,  0.25714286,\n",
    "        0.17142857,  0.08571429,  0.        , -0.08571429, -0.17142857,\n",
    "       -0.25714286, -0.34285714, -0.42857143, -0.51428571, -0.6       ])\n",
    "\n",
    "plt.axvline(x=0, color=\"grey\")\n",
    "plt.axhline(y=0, color=\"grey\")\n",
    "plt.plot(xs, ys)\n"
   ]
  },
  {
   "cell_type": "code",
   "execution_count": 59,
   "metadata": {},
   "outputs": [],
   "source": [
    "# YOUR CHANGES HERE\n",
    "#y = (-3/5)x + 3\n",
    "#(3/5)x + y = 3\n",
    "p20 = (3/5, 1, 3)"
   ]
  },
  {
   "cell_type": "markdown",
   "metadata": {},
   "source": [
    "### Generative AI Usage\n",
    "\n",
    "If you used any generative AI tools, please add links to your transcripts below, and any other information that you feel is necessary to comply with the [generative AI policy](https://www.bu.edu/cds-faculty/culture-community/gaia-policy/).\n",
    "If you did not use any generative AI tools, simply write NONE below."
   ]
  },
  {
   "cell_type": "markdown",
   "metadata": {},
   "source": [
    "NONE"
   ]
  }
 ],
 "metadata": {
  "kernelspec": {
   "display_name": "Python 3",
   "language": "python",
   "name": "python3"
  },
  "language_info": {
   "codemirror_mode": {
    "name": "ipython",
    "version": 3
   },
   "file_extension": ".py",
   "mimetype": "text/x-python",
   "name": "python",
   "nbconvert_exporter": "python",
   "pygments_lexer": "ipython3",
   "version": "3.12.1"
  }
 },
 "nbformat": 4,
 "nbformat_minor": 2
}
